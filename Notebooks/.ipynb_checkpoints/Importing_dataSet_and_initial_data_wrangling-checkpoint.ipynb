{
 "cells": [
  {
   "cell_type": "markdown",
   "metadata": {
    "collapsed": true,
    "deletable": true,
    "editable": true
   },
   "source": [
    "## Introduction \n",
    "\n",
    "In this notebook we are going to see how to employ Python's Pandas module in order to import a dataset and conducting the intial data wrangling.\n",
    "We are utilizing UCI automobile DataSet\n",
    "https://archive.ics.uci.edu/ml/datasets/automobile\n",
    "\n",
    "## Importing Numpy and Pandas\n",
    "\n",
    "The first step is clearly importing Pandas, I am also going to import numpy as it will be needed later in our notebook\n"
   ]
  },
  {
   "cell_type": "code",
   "execution_count": 2,
   "metadata": {
    "collapsed": true,
    "deletable": true,
    "editable": true
   },
   "outputs": [],
   "source": [
    "import numpy as np\n",
    "import pandas as pd"
   ]
  },
  {
   "cell_type": "markdown",
   "metadata": {
    "deletable": true,
    "editable": true
   },
   "source": [
    "## Importing the dataset\n",
    "\n",
    "In the next step, we will use pandas read_csv command in order to import the dataset\n",
    "Pay attention that the dataset is not stored in our pc, we are directly importing it by providing the url of the file.\n",
    "\n",
    "* ### A note about the header\n",
    "It is noteworthy that the original file does not have any header explaining what each column refers to. Hence, we are supposed to choose the header to be None, as if not pandas by automatically considers the first raw to be the header (a row that includes the names of all columns)\n",
    "\n"
   ]
  },
  {
   "cell_type": "code",
   "execution_count": 3,
   "metadata": {
    "collapsed": false,
    "deletable": true,
    "editable": true
   },
   "outputs": [],
   "source": [
    "url = url = \"https://archive.ics.uci.edu/ml/machine-learning-databases/autos/imports-85.data\"\n",
    "df = pd.read_csv(url,header=None)\n"
   ]
  },
  {
   "cell_type": "markdown",
   "metadata": {},
   "source": []
  }
 ],
 "metadata": {
  "kernelspec": {
   "display_name": "Python 2",
   "language": "python",
   "name": "python2"
  },
  "language_info": {
   "codemirror_mode": {
    "name": "ipython",
    "version": 2
   },
   "file_extension": ".py",
   "mimetype": "text/x-python",
   "name": "python",
   "nbconvert_exporter": "python",
   "pygments_lexer": "ipython2",
   "version": "2.7.13"
  }
 },
 "nbformat": 4,
 "nbformat_minor": 2
}
