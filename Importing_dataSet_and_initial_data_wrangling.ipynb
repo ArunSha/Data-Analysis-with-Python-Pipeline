{
 "cells": [
  {
   "cell_type": "markdown",
   "metadata": {
    "collapsed": true,
    "deletable": true,
    "editable": true
   },
   "source": [
    "Introduction \n",
    "In this notebook we are going to see how to employ Python's Pandas module in order to import a dataset and conducting the intial data wrangling.\n",
    "We are utilizing UCI automobile DataSet\n",
    "https://archive.ics.uci.edu/ml/datasets/automobile\n",
    "\n",
    "The first step is clearly importing Pandas, I am also going to import numpy as it will be needed later in our notebook\n"
   ]
  },
  {
   "cell_type": "code",
   "execution_count": 1,
   "metadata": {
    "collapsed": true
   },
   "outputs": [],
   "source": [
    "import numpy as np\n",
    "import pandas as pd"
   ]
  },
  {
   "cell_type": "markdown",
   "metadata": {},
   "source": [
    "In the next step, we will use pandas read_csv command in order to import the dataset\n",
    "Pay attention that the dataset is not stored in our pc, we are directly importing it by providing the url of the file.Furthermore, it is also noteworthy that the original file does not have any header explaing what each column refers to. Hence, we are supposed to choose the header to be None, as if not pandas by default considers the first raw to be the header (a row that includes the names of all columns)\n",
    "\n"
   ]
  },
  {
   "cell_type": "code",
   "execution_count": null,
   "metadata": {
    "collapsed": true
   },
   "outputs": [],
   "source": [
    "url = url = \"https://archive.ics.uci.edu/ml/machine-learning-databases/autos/imports-85.data\"\n",
    "df = pd.read_csv(url,header=None)\n"
   ]
  }
 ],
 "metadata": {
  "kernelspec": {
   "display_name": "Python 2",
   "language": "python",
   "name": "python2"
  },
  "language_info": {
   "codemirror_mode": {
    "name": "ipython",
    "version": 2
   },
   "file_extension": ".py",
   "mimetype": "text/x-python",
   "name": "python",
   "nbconvert_exporter": "python",
   "pygments_lexer": "ipython2",
   "version": "2.7.13"
  }
 },
 "nbformat": 4,
 "nbformat_minor": 2
}
